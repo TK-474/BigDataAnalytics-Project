{
 "cells": [
  {
   "cell_type": "code",
   "execution_count": 1,
   "metadata": {},
   "outputs": [],
   "source": [
    "import pandas as pd\n",
    "\n",
    "# Load csv file sample.csv\n",
    "df = pd.read_csv('/Users/talalkhan/Documents/updated_sample_customers.csv')"
   ]
  },
  {
   "cell_type": "code",
   "execution_count": 2,
   "metadata": {},
   "outputs": [],
   "source": [
    "# Reove 70% of values from TotalAmount column\n",
    "df['TotalAmount'] = df['TotalAmount'].sample(frac=0.3)\n",
    "\n",
    "# Misspell the Country name of Pakistan to Pakist\n",
    "df['Country'] = df['Country'].replace('Pakistan', 'Pakist')\n",
    "\n",
    "# Misspell Gaming Console to GConsole\n",
    "df['ProductName'] = df['ProductName'].replace('Gaming Console', 'GConsole')"
   ]
  },
  {
   "cell_type": "code",
   "execution_count": 3,
   "metadata": {},
   "outputs": [],
   "source": [
    "df.to_csv('sample.csv', index=False)"
   ]
  },
  {
   "cell_type": "code",
   "execution_count": null,
   "metadata": {},
   "outputs": [],
   "source": []
  }
 ],
 "metadata": {
  "kernelspec": {
   "display_name": "Python 3",
   "language": "python",
   "name": "python3"
  },
  "language_info": {
   "codemirror_mode": {
    "name": "ipython",
    "version": 3
   },
   "file_extension": ".py",
   "mimetype": "text/x-python",
   "name": "python",
   "nbconvert_exporter": "python",
   "pygments_lexer": "ipython3",
   "version": "3.11.9"
  }
 },
 "nbformat": 4,
 "nbformat_minor": 2
}
